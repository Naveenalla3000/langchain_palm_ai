{
 "cells": [
  {
   "cell_type": "code",
   "execution_count": 1,
   "metadata": {},
   "outputs": [
    {
     "name": "stdout",
     "output_type": "stream",
     "text": [
      "Note: you may need to restart the kernel to use updated packages.\n"
     ]
    }
   ],
   "source": [
    "%pip install --upgrade -q  langchain-google-genai python-dotenv"
   ]
  },
  {
   "cell_type": "markdown",
   "metadata": {},
   "source": [
    "python version should be >=3.9"
   ]
  },
  {
   "cell_type": "code",
   "execution_count": 4,
   "metadata": {},
   "outputs": [
    {
     "name": "stdout",
     "output_type": "stream",
     "text": [
      "3.12.3\n"
     ]
    }
   ],
   "source": [
    "import sys\n",
    "import platform\n",
    "print(platform.python_version())\n",
    "import os\n",
    "from dotenv import load_dotenv\n",
    "load_dotenv()\n",
    "from langchain_google_genai import GoogleGenerativeAI"
   ]
  },
  {
   "cell_type": "code",
   "execution_count": 7,
   "metadata": {},
   "outputs": [],
   "source": [
    "llm = GoogleGenerativeAI(model=\"models/text-bison-001\", google_api_key=os.getenv(\"GOOGLE_API_KEY\"))\n",
    "res = llm.invoke(\n",
    "       \"\"\"\n",
    "You are an expert at coding, problem solving, algorithems and linux and unix simply you are a software expert with 20+ years of experience with java and python languages.\n",
    "\n",
    "Solve the following problem:\n",
    "\n",
    "create a student class with the following attributes:\n",
    "- name\n",
    "- age\n",
    "- grade\n",
    "\n",
    "in py programming language\n",
    "\"\"\"\n",
    "    )\n"
   ]
  },
  {
   "cell_type": "code",
   "execution_count": 8,
   "metadata": {},
   "outputs": [
    {
     "name": "stdout",
     "output_type": "stream",
     "text": [
      "```python\n",
      "class Student:\n",
      "    def __init__(self, name, age, grade):\n",
      "        self.name = name\n",
      "        self.age = age\n",
      "        self.grade = grade\n",
      "\n",
      "    def get_name(self):\n",
      "        return self.name\n",
      "\n",
      "    def get_age(self):\n",
      "        return self.age\n",
      "\n",
      "    def get_grade(self):\n",
      "        return self.grade\n",
      "\n",
      "    def set_name(self, name):\n",
      "        self.name = name\n",
      "\n",
      "    def set_age(self, age):\n",
      "        self.age = age\n",
      "\n",
      "    def set_grade(self, grade):\n",
      "        self.grade = grade\n",
      "\n",
      "    def __str__(self):\n",
      "        return f\"Student(name={self.name}, age={self.age}, grade={self.grade})\"\n",
      "\n",
      "\n",
      "if __name__ == \"__main__\":\n",
      "    student1 = Student(\"John Doe\", 10, 5)\n",
      "    print(student1)\n",
      "```\n"
     ]
    }
   ],
   "source": [
    "print(res)"
   ]
  },
  {
   "cell_type": "code",
   "execution_count": null,
   "metadata": {},
   "outputs": [],
   "source": []
  }
 ],
 "metadata": {
  "kernelspec": {
   "display_name": "langchain_plam_ai_env",
   "language": "python",
   "name": "python3"
  },
  "language_info": {
   "codemirror_mode": {
    "name": "ipython",
    "version": 3
   },
   "file_extension": ".py",
   "mimetype": "text/x-python",
   "name": "python",
   "nbconvert_exporter": "python",
   "pygments_lexer": "ipython3",
   "version": "3.12.3"
  }
 },
 "nbformat": 4,
 "nbformat_minor": 2
}
